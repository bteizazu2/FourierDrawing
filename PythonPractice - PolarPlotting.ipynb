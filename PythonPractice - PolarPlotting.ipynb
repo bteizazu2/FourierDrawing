{
 "cells": [
  {
   "cell_type": "code",
   "execution_count": null,
   "metadata": {},
   "outputs": [],
   "source": [
    "import cv2\n",
    "import numpy as np"
   ]
  },
  {
   "cell_type": "code",
   "execution_count": null,
   "metadata": {},
   "outputs": [],
   "source": [
    "#First, get the gray image and process GaussianBlur.\n",
    "img = cv2.imread(r\"C:\\Users\\bonss\\Downloads\\concentricCircles.jpg\")\n",
    "\n",
    "gray = cv2.cvtColor(img,cv2.COLOR_BGR2GRAY)\n",
    "\n",
    "kernel_size = 5\n",
    "blur_gray = cv2.GaussianBlur(gray,(kernel_size, kernel_size),0)\n",
    "\n",
    "\n",
    "#Second, process edge detection use Canny.\n",
    "\n",
    "low_threshold = 50\n",
    "high_threshold = 150\n",
    "edges = cv2.Canny(blur_gray, low_threshold, high_threshold)\n",
    "\n",
    "\n",
    "\n",
    "\n",
    "\n",
    "# Define the center and max radius for polar transformation\n",
    "center = (edges.shape[1] // 2, edges.shape[0] // 2)\n",
    "max_radius = np.sqrt(((edges.shape[1]/2.0)**2.0) + ((edges.shape[0]/2.0)**2.0))\n",
    "\n",
    "print(np.shape(edges))\n",
    "print(center, max_radius)\n",
    "\n",
    "# Apply polar transformation\n",
    "polar_img = cv2.warpPolar(edges, (edges.shape[1], edges.shape[0]), center, max_radius, cv2.WARP_FILL_OUTLIERS)\n",
    "\n",
    "# Display the original and polar transformed images\n",
    "cv2.imshow('Original Image', edges)\n",
    "cv2.imshow('Polar Image', polar_img)\n",
    "cv2.waitKey(0)\n",
    "cv2.destroyAllWindows()"
   ]
  },
  {
   "cell_type": "code",
   "execution_count": null,
   "metadata": {},
   "outputs": [],
   "source": [
    "#Convert back to Cartesian\n",
    "\n",
    "\n",
    "# Convert from polar to Cartesian coordinates using linearPolar\n",
    "cartesian_image = cv2.warpPolar(polar_img, (polar_img.shape[1], polar_img.shape[0]), center, max_radius, cv2.WARP_FILL_OUTLIERS | cv2.WARP_INVERSE_MAP)\n",
    "\n",
    "# Alternatively, you can use logPolar for a logarithmic scale conversion\n",
    "# cartesian_image = cv2.logPolar(image, center, max_radius, cv2.WARP_FILL_OUTLIERS)\n",
    "\n",
    "# Save or display the result\n",
    "cv2.imshow('Original Image', edges)\n",
    "cv2.imwrite('cartesian_image.jpg', cartesian_image)\n",
    "cv2.imshow('Cartesian Image', cartesian_image)\n",
    "cv2.waitKey(0)\n",
    "cv2.destroyAllWindows()"
   ]
  }
 ],
 "metadata": {
  "kernelspec": {
   "display_name": "Python 3",
   "language": "python",
   "name": "python3"
  },
  "language_info": {
   "codemirror_mode": {
    "name": "ipython",
    "version": 3
   },
   "file_extension": ".py",
   "mimetype": "text/x-python",
   "name": "python",
   "nbconvert_exporter": "python",
   "pygments_lexer": "ipython3",
   "version": "3.13.2"
  }
 },
 "nbformat": 4,
 "nbformat_minor": 2
}
